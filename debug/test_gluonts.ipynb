{
 "cells": [
  {
   "cell_type": "code",
   "execution_count": 6,
   "metadata": {},
   "outputs": [],
   "source": [
    "from gluonts.dataset.repository.datasets import get_dataset\n",
    "from typing import Any, Generator\n",
    "import numpy as np"
   ]
  },
  {
   "cell_type": "code",
   "execution_count": 14,
   "metadata": {},
   "outputs": [],
   "source": [
    "dataset = 'wiki-rolling_nips'\n",
    "gluonts_dataset = get_dataset(dataset, regenerate=True).train"
   ]
  },
  {
   "cell_type": "code",
   "execution_count": 7,
   "metadata": {},
   "outputs": [],
   "source": [
    "def gen_func() -> Generator[dict[str, Any], None, None]:\n",
    "    for item in gluonts_dataset:\n",
    "        if dataset == \"covid_mobility\":\n",
    "            if (\n",
    "                len(item[\"target\"]) < 100\n",
    "                or np.isnan(item[\"target\"]).sum() / len(item[\"target\"]) > 0.25\n",
    "            ):\n",
    "                continue\n",
    "        if len(item[\"target\"]) < 20:\n",
    "            continue\n",
    "\n",
    "        freq = item[\"start\"].freqstr\n",
    "        if freq is None or freq == \"\":\n",
    "            raise ValueError\n",
    "        item[\"freq\"] = freq\n",
    "        item[\"start\"] = item[\"start\"].to_timestamp()\n",
    "        del item[\"feat_static_cat\"]\n",
    "        yield item"
   ]
  },
  {
   "cell_type": "code",
   "execution_count": 16,
   "metadata": {},
   "outputs": [
    {
     "name": "stdout",
     "output_type": "stream",
     "text": [
      "9535\n"
     ]
    }
   ],
   "source": [
    "print(len(gluonts_dataset))"
   ]
  },
  {
   "cell_type": "code",
   "execution_count": 18,
   "metadata": {},
   "outputs": [],
   "source": [
    "test = get_dataset(dataset, regenerate=True).test"
   ]
  },
  {
   "cell_type": "code",
   "execution_count": 26,
   "metadata": {},
   "outputs": [],
   "source": [
    "res = []\n",
    "\n",
    "for i, t in enumerate(test):\n",
    "    if i % 9535 == 0:\n",
    "        res.append(t)"
   ]
  },
  {
   "cell_type": "code",
   "execution_count": 29,
   "metadata": {},
   "outputs": [
    {
     "name": "stdout",
     "output_type": "stream",
     "text": [
      "(792,)\n",
      "(822,)\n",
      "(852,)\n",
      "(882,)\n",
      "(912,)\n"
     ]
    }
   ],
   "source": [
    "for r in res:\n",
    "    print(r['target'].shape)"
   ]
  },
  {
   "cell_type": "code",
   "execution_count": 33,
   "metadata": {},
   "outputs": [
    {
     "data": {
      "text/plain": [
       "True"
      ]
     },
     "execution_count": 33,
     "metadata": {},
     "output_type": "execute_result"
    }
   ],
   "source": [
    "(res[0]['target'][:] == res[1]['target'][:792]).all()"
   ]
  },
  {
   "cell_type": "code",
   "execution_count": 34,
   "metadata": {},
   "outputs": [
    {
     "data": {
      "text/plain": [
       "True"
      ]
     },
     "execution_count": 34,
     "metadata": {},
     "output_type": "execute_result"
    }
   ],
   "source": [
    "(res[1]['target'][:] == res[2]['target'][:822]).all()"
   ]
  },
  {
   "cell_type": "code",
   "execution_count": null,
   "metadata": {},
   "outputs": [],
   "source": []
  }
 ],
 "metadata": {
  "kernelspec": {
   "display_name": "moirai",
   "language": "python",
   "name": "python3"
  },
  "language_info": {
   "codemirror_mode": {
    "name": "ipython",
    "version": 3
   },
   "file_extension": ".py",
   "mimetype": "text/x-python",
   "name": "python",
   "nbconvert_exporter": "python",
   "pygments_lexer": "ipython3",
   "version": "3.10.14"
  }
 },
 "nbformat": 4,
 "nbformat_minor": 2
}
