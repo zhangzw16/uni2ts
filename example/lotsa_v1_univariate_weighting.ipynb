{
 "cells": [
  {
   "cell_type": "markdown",
   "metadata": {},
   "source": [
    "# convert to univariate distance config\n",
    "\n",
    "- input dir: \"/data/Blob_EastUS/v-zhenwzhang/tsfm_datasets/lotsa_weights\"\n",
    "- each folder corresponds to a subdataset, and contains .npy files for each dataset"
   ]
  },
  {
   "cell_type": "code",
   "execution_count": 12,
   "metadata": {},
   "outputs": [],
   "source": [
    "import numpy as np\n",
    "import yaml\n",
    "\n",
    "from uni2ts.data.builder.lotsa_v1 import (\n",
    "    Buildings900KDatasetBuilder,\n",
    "    BuildingsBenchDatasetBuilder,\n",
    "    CloudOpsTSFDatasetBuilder,\n",
    "    CMIP6DatasetBuilder,\n",
    "    ERA5DatasetBuilder,\n",
    "    GluonTSDatasetBuilder,\n",
    "    LargeSTDatasetBuilder,\n",
    "    LibCityDatasetBuilder,\n",
    "    OthersLOTSADatasetBuilder,\n",
    "    ProEnFoDatasetBuilder,\n",
    "    SubseasonalDatasetBuilder,\n",
    ")"
   ]
  },
  {
   "cell_type": "code",
   "execution_count": 2,
   "metadata": {},
   "outputs": [],
   "source": [
    "dataset_list = (\n",
    "    Buildings900KDatasetBuilder.dataset_list\n",
    "    + BuildingsBenchDatasetBuilder.dataset_list\n",
    "    + CloudOpsTSFDatasetBuilder.dataset_list\n",
    "    + CMIP6DatasetBuilder.dataset_list\n",
    "    + ERA5DatasetBuilder.dataset_list\n",
    "    + GluonTSDatasetBuilder.dataset_list\n",
    "    + LargeSTDatasetBuilder.dataset_list\n",
    "    + LibCityDatasetBuilder.dataset_list\n",
    "    + OthersLOTSADatasetBuilder.dataset_list\n",
    "    + ProEnFoDatasetBuilder.dataset_list\n",
    "    + SubseasonalDatasetBuilder.dataset_list\n",
    ")"
   ]
  },
  {
   "cell_type": "code",
   "execution_count": 6,
   "metadata": {},
   "outputs": [
    {
     "name": "stdout",
     "output_type": "stream",
     "text": [
      "169\n",
      "['bdg-2_bear', 'bdg-2_fox', 'bdg-2_panther', 'bdg-2_rat', 'borealis', 'ideal', 'lcl', 'sceaux', 'smart', 'cmip6_1850', 'cmip6_1855', 'cmip6_1860', 'cmip6_1865', 'cmip6_1870', 'cmip6_1875', 'cmip6_1880', 'cmip6_1885', 'cmip6_1890', 'cmip6_1895', 'cmip6_1900', 'cmip6_1905', 'cmip6_1910', 'cmip6_1915', 'cmip6_1920', 'cmip6_1925', 'cmip6_1930', 'cmip6_1935', 'cmip6_1940', 'cmip6_1945', 'cmip6_1950', 'cmip6_1955', 'cmip6_1960', 'cmip6_1965', 'cmip6_1970', 'cmip6_1975', 'cmip6_1980', 'cmip6_1985', 'cmip6_1990', 'cmip6_1995', 'cmip6_2000', 'cmip6_2005', 'cmip6_2010', 'alibaba_cluster_trace_2018', 'azure_vm_traces_2017', 'borg_cluster_data_2011', 'era5_1989', 'era5_1990', 'era5_1991', 'era5_1992', 'era5_1993', 'era5_1994', 'era5_1995', 'era5_1996', 'era5_1997', 'era5_1998', 'era5_1999', 'era5_2000', 'era5_2001', 'era5_2002', 'era5_2003', 'era5_2004', 'era5_2005', 'era5_2006', 'era5_2007', 'era5_2008', 'era5_2009', 'era5_2010', 'era5_2011', 'era5_2012', 'era5_2013', 'era5_2014', 'era5_2015', 'era5_2016', 'era5_2017', 'era5_2018', 'australian_electricity_demand', 'bitcoin_with_missing', 'car_parts_with_missing', 'cif_2016_12', 'cif_2016_6', 'covid_deaths', 'covid_mobility', 'elecdemand', 'extended_web_traffic_with_missing', 'fred_md', 'hospital', 'kaggle_web_traffic_weekly', 'kdd_cup_2018_with_missing', 'london_smart_meters_with_missing', 'm1_monthly', 'm1_quarterly', 'm1_yearly', 'm4_daily', 'm4_hourly', 'm4_monthly', 'm4_quarterly', 'm4_weekly', 'm4_yearly', 'm5', 'monash_m3_monthly', 'monash_m3_other', 'monash_m3_quarterly', 'monash_m3_yearly', 'nn5_daily_with_missing', 'nn5_weekly', 'oikolab_weather', 'pedestrian_counts', 'rideshare_with_missing', 'saugeenday', 'solar_power', 'sunspot_with_missing', 'taxi_30min', 'temperature_rain_with_missing', 'tourism_monthly', 'tourism_quarterly', 'tourism_yearly', 'traffic_hourly', 'traffic_weekly', 'uber_tlc_daily', 'uber_tlc_hourly', 'us_births', 'vehicle_trips_with_missing', 'weather', 'wiki-rolling_nips', 'wind_farms_with_missing', 'wind_power', 'largest_2017', 'largest_2018', 'largest_2019', 'largest_2020', 'largest_2021', 'BEIJING_SUBWAY_30MIN', 'HZMETRO', 'LOOP_SEATTLE', 'LOS_LOOP', 'M_DENSE', 'PEMS03', 'PEMS04', 'PEMS07', 'PEMS08', 'PEMS_BAY', 'Q-TRAFFIC', 'SHMETRO', 'SZ_TAXI', 'beijing_air_quality', 'cdc_fluview_ilinet', 'cdc_fluview_who_nrevss', 'china_air_quality', 'favorita_sales', 'favorita_transactions', 'godaddy', 'hierarchical_sales', 'kdd2022', 'project_tycho', 'residential_load_power', 'residential_pv_power', 'restaurant', 'bull', 'cockatoo', 'covid19_energy', 'elf', 'gfc12_load', 'gfc14_load', 'gfc17_load', 'hog', 'pdb', 'spain', 'subseasonal_precip', 'subseasonal']\n"
     ]
    }
   ],
   "source": [
    "import os\n",
    "\n",
    "path = \"/data/Blob_EastUS/v-zhenwzhang/tsfm_datasets/lotsa_weights\"\n",
    "\n",
    "npy_files = []\n",
    "dataset_names = []\n",
    "for root, dirs, files in os.walk(path):\n",
    "    for file in files:\n",
    "        if file.endswith(\"_to_ETTh1_distances.npy\"):\n",
    "            npy_files.append(os.path.join(root, file))\n",
    "            dataset_name = file.split('_to_ETTh1_distances.npy')[0]\n",
    "            dataset_names.append(dataset_name)\n",
    "\n",
    "print(len(npy_files))\n",
    "print(dataset_names)\n",
    "\n",
    "npy_contents = {}\n",
    "for dataset_name, npy_file in zip(dataset_names, npy_files):\n",
    "    npy_contents[dataset_name] = np.load(npy_file).mean(axis=1)\n",
    "\n",
    "# print(npy_contents['bdg-2_bear'])"
   ]
  },
  {
   "cell_type": "code",
   "execution_count": 13,
   "metadata": {},
   "outputs": [
    {
     "name": "stdout",
     "output_type": "stream",
     "text": [
      "(91,)\n"
     ]
    }
   ],
   "source": [
    "# print(npy_contents['bdg-2_bear'].shape) (91,)\n",
    "\n",
    "# format npy_contents to yaml file\n",
    "# each dataset has a list of distances\n",
    "# for example:\n",
    "# bdg-2_bear:\n",
    "#  1: distance_1\n",
    "#  2: distance_2\n",
    "#  3: .....\n",
    "\n",
    "formatted_npy_contents = {}\n",
    "for dataset, distances in npy_contents.items():\n",
    "    formatted_npy_contents[dataset] = {i + 1: float(distance) for i, distance in enumerate(distances)}\n",
    "\n",
    "# save to yaml file\n",
    "with open('distances_to_etth1.yaml', 'w') as yaml_file:\n",
    "    yaml.dump(formatted_npy_contents, yaml_file)"
   ]
  },
  {
   "cell_type": "code",
   "execution_count": 14,
   "metadata": {},
   "outputs": [
    {
     "name": "stdout",
     "output_type": "stream",
     "text": [
      "Mean of all distances: 0.41921082\n"
     ]
    }
   ],
   "source": [
    "# Calculate the mean of all distances\n",
    "all_distances = np.concatenate(list(npy_contents.values()))\n",
    "mean_distance = np.mean(all_distances)\n",
    "\n",
    "print(\"Mean of all distances:\", mean_distance)"
   ]
  },
  {
   "cell_type": "code",
   "execution_count": 13,
   "metadata": {},
   "outputs": [
    {
     "name": "stdout",
     "output_type": "stream",
     "text": [
      "169\n"
     ]
    }
   ],
   "source": [
    "# Find the common elements between dataset_names and dataset_list\n",
    "common_elements = set(dataset_names).intersection(dataset_list)\n",
    "\n",
    "# Print the common elements\n",
    "print(len(common_elements))"
   ]
  },
  {
   "cell_type": "code",
   "execution_count": null,
   "metadata": {},
   "outputs": [],
   "source": []
  }
 ],
 "metadata": {
  "kernelspec": {
   "display_name": "moirai_probts",
   "language": "python",
   "name": "python3"
  },
  "language_info": {
   "codemirror_mode": {
    "name": "ipython",
    "version": 3
   },
   "file_extension": ".py",
   "mimetype": "text/x-python",
   "name": "python",
   "nbconvert_exporter": "python",
   "pygments_lexer": "ipython3",
   "version": "3.10.14"
  }
 },
 "nbformat": 4,
 "nbformat_minor": 2
}
